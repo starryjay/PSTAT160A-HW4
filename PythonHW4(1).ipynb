{
 "cells": [
  {
   "cell_type": "markdown",
   "metadata": {
    "id": "H5BGr1y9xiR4"
   },
   "source": [
    "# Python Homework 4: Arcsine Laws"
   ]
  },
  {
   "cell_type": "markdown",
   "metadata": {
    "id": "r0f-CrmjxiR6"
   },
   "source": [
    "The purpose of this python homework is to explore the so-called <i>Arcsine laws</i> numerically. The arcsine laws are a number of fascinating results for random walks. They relate path properties of the simple symmetric random walk to the <i>arcsine distribution</i>. \n",
    "\n",
    "A random variable $X$ on $[0,1]$ is arcsine-distributed if the cumulative distribution function is given by\n",
    "$$ \\mathbb{P}[X \\leq x] = \\frac{2}{\\pi} \\arcsin(\\sqrt{x}) $$\n",
    "for all $0 \\leq x \\leq 1$ and the probability density function is given by \n",
    "$$ f_X(x) = \\frac{1}{\\pi \\sqrt{x(1-x)}}$$\n",
    "on $(0,1)$. "
   ]
  },
  {
   "cell_type": "markdown",
   "metadata": {
    "id": "up_DkO3UxiR6"
   },
   "source": [
    "Given a <b>simple symmetric random walk</b> $(S_n)_{n\\geq 0}$ with $S_0 =0$, we define the following random variables:\n",
    "* The total number of periods from $0$ to $2N$ the random walk spends above zero: \n",
    "\n",
    "$$C_{2N}:= \\vert \\{ n \\in \\{ 1,\\dots , 2N \\} : S_n > 0 \\}\\vert. $$\n",
    "\n",
    "* The time of the last visit to $0$ before time $2N$: \n",
    "\n",
    "$$L_{2N}:= \\max \\{ 0 \\leq n \\leq  2N : S_n = 0 \\}.$$\n",
    "\n",
    "* The time when the random walk reaches its unique maximum value between time $0$ and $2N$: \n",
    "\n",
    "$$M_{2N}:= \\operatorname{argmax} \\{ S_n : 0 \\leq n \\leq 2N \\}.$$ This notation means that $S_{M_{2N}} = \\max \\{ S_n : 0 \\leq n \\leq 2N \\}$. Note that the maximum value is uniquely defined but there might be several times when it is reached. In this case $M_{2N}$ can be defined to be the last time it is reached. You will see that for large $N$ it does not really matter."
   ]
  },
  {
   "cell_type": "markdown",
   "metadata": {
    "id": "9u7_lr4dxiR7"
   },
   "source": [
    "Start with loading some packages:"
   ]
  },
  {
   "cell_type": "code",
   "execution_count": 2,
   "metadata": {
    "id": "U689IDk8xiR7"
   },
   "outputs": [],
   "source": [
    "import numpy as np\n",
    "import math\n",
    "import matplotlib.pyplot as plt\n",
    "\n",
    "from scipy.stats import arcsine\n",
    "\n",
    "# Allows to render plots directly within the notebook\n",
    "%matplotlib inline"
   ]
  },
  {
   "cell_type": "markdown",
   "metadata": {
    "id": "KpdyIIH2xiR7"
   },
   "source": [
    "## Problem 1 (1 points)\n",
    "\n",
    "Write a Python code to simulate one <i>path</i> of a simple symmetric random walk with $2N$ time steps (i.e. <tt>lengthOfRandomWalk = 2N</tt>) starting at $S_0=0$. \n",
    "\n",
    "The function <tt>randomWalk</tt> should return an array of length 2N with the entire path of the random walk."
   ]
  },
  {
   "cell_type": "code",
   "execution_count": 3,
   "metadata": {
    "id": "bu7KKSNyxiR7"
   },
   "outputs": [],
   "source": [
    "### Insert your code here for simulating the random walk\n",
    "def randomWalk(two_N):\n",
    "    samplePath = []\n",
    "    step = 0\n",
    "    for i in range(two_N):\n",
    "        p = np.random.random(1)\n",
    "        if p <= 0.5:\n",
    "            step += -1\n",
    "            samplePath.append(step)\n",
    "        else:\n",
    "            step += 1\n",
    "            samplePath.append(step)\n",
    "    samplePath = np.array(samplePath)   \n",
    "    return samplePath\n"
   ]
  },
  {
   "cell_type": "markdown",
   "metadata": {
    "id": "Y0BDSUOoxiR8"
   },
   "source": [
    "## Problem 2 (6 points)\n",
    "\n",
    "Write three Python functions which take a path of a random walk as an input and then compute the values of the random variables $C_{2N}, L_{2N}, M_{2N}$, respectively, as defined above:"
   ]
  },
  {
   "cell_type": "code",
   "execution_count": 4,
   "metadata": {
    "id": "m6zJogAkxiR8"
   },
   "outputs": [],
   "source": [
    "### Insert your code here for total time spend above zero\n",
    "def timeAboveZero(path):\n",
    "    result = np.sum(path[path > 0])\n",
    "    return result"
   ]
  },
  {
   "cell_type": "code",
   "execution_count": 5,
   "metadata": {
    "id": "ExOqoBrXxiR9"
   },
   "outputs": [],
   "source": [
    "### Insert your code here for last time the random walk visited zero\n",
    "def timeOfLastVisitOfZero(path):\n",
    "    indices = np.where(path == 0)\n",
    "    return indices[-1]"
   ]
  },
  {
   "cell_type": "code",
   "execution_count": 6,
   "metadata": {
    "id": "3HcpHG85xiR9"
   },
   "outputs": [],
   "source": [
    "### Insert your code here for the time when the random walk hits its maximum\n",
    "def lastTimeHitMax(randomWalk):\n",
    "    maximum = max(randomWalk)\n",
    "    indices = np.where(path == maximum)\n",
    "    return indices[-1]"
   ]
  },
  {
   "cell_type": "markdown",
   "metadata": {
    "id": "8hgD703AxiR-"
   },
   "source": [
    "## Problem 3 (3 points)\n",
    "\n",
    "Random Walk theory provides us with the following nice (and maybe counterintuitive) asymptotic statements:\n",
    "\n",
    "$$\\lim_{N\\rightarrow \\infty} \\mathbb{P} \\left[ \\frac{C_{2N}}{2N} \\leq x\\right] =\\frac{2}{\\pi} \\arcsin(\\sqrt{x})$$\n",
    "\n",
    "$$\\lim_{N\\rightarrow \\infty} \\mathbb{P} \\left[ \\frac{L_{2N}}{2N} \\leq x\\right] =\\frac{2}{\\pi} \\arcsin(\\sqrt{x})$$\n",
    "\n",
    "$$\\lim_{N\\rightarrow \\infty} \\mathbb{P} \\left[ \\frac{M_{2N}}{2N} \\leq x\\right] =\\frac{2}{\\pi} \\arcsin(\\sqrt{x})$$\n",
    "\n",
    "We say that the random variables $C_{2N}/2N, L_{2N}/2N, M_{2N}/2N$ <b>converge in distribution</b> to the Arcsine Distribution.\n",
    "\n",
    "The interesting property about the Arcsine distribution is that its density (see its formula above) is <i>U-shaped</i> on $(0,1)$. In other words, if $X$ is arcsine-distributed on $(0,1)$, the probabilty that $X$ takes very small values near 0 or very large values near 1 is rather high, but the probability for taking values around, say, 0.5, is low. "
   ]
  },
  {
   "cell_type": "code",
   "execution_count": 7,
   "metadata": {
    "colab": {
     "base_uri": "https://localhost:8080/",
     "height": 299
    },
    "id": "qkx7nmJKxiR-",
    "outputId": "05ad4875-0fa9-4493-986c-767276c5b526",
    "scrolled": true
   },
   "outputs": [
    {
     "data": {
      "text/plain": [
       "[<matplotlib.lines.Line2D at 0x7fc5a8eaf4c0>]"
      ]
     },
     "execution_count": 7,
     "metadata": {},
     "output_type": "execute_result"
    },
    {
     "data": {
      "image/png": "[encoded data removed]",
      "text/plain": [
       "<Figure size 432x288 with 1 Axes>"
      ]
     },
     "metadata": {
      "needs_background": "light"
     },
     "output_type": "display_data"
    }
   ],
   "source": [
    "x = np.linspace(arcsine.ppf(0.05), arcsine.ppf(0.95), 100)\n",
    "plt.title(\"Density of the arcsine distribution\")\n",
    "plt.plot(x, arcsine.pdf(x), linewidth=2, color='b')"
   ]
  },
  {
   "cell_type": "markdown",
   "metadata": {
    "id": "Fp-rXF7GxiR-"
   },
   "source": [
    "For $2N = 1000$ sample 10,000 realisations of each of the random variables $C_{2N}/2N, L_{2N}/2N,$ and $M_{2N}/2N$, respectively. Display a normalized histogram for all three simulations, along with the probability density function of the arcsine distribution, to check the above facts numerically! "
   ]
  },
  {
   "cell_type": "code",
   "execution_count": 8,
   "metadata": {
    "id": "NWhgrzamxiR-"
   },
   "outputs": [],
   "source": [
    "### Implement your Simulations here\n",
    "\n",
    "sampleSize = 10000\n",
    "\n",
    "c, l, m = [], [], []\n",
    "\n",
    "for i in range(sampleSize):\n",
    "    path = randomWalk(1000)\n",
    "    c.append(timeAboveZero(path)/1000)\n",
    "    l.append(timeOfLastVisitOfZero(path)/1000)\n",
    "    m.append(lastTimeHitMax(path)/1000)"
   ]
  },
  {
   "cell_type": "code",
   "execution_count": null,
   "metadata": {
    "colab": {
     "base_uri": "https://localhost:8080/"
    },
    "id": "ULwA3hCDxiR_",
    "outputId": "a60a96a2-e5f0-4255-f159-4461f50b9fa4"
   },
   "outputs": [
    {
     "name": "stderr",
     "output_type": "stream",
     "text": [
      "/Users/shobhanashreedhar/opt/anaconda3/lib/python3.9/site-packages/numpy/lib/histograms.py:906: RuntimeWarning: invalid value encountered in true_divide\n",
      "  return n/db/n.sum(), bin_edges\n"
     ]
    }
   ],
   "source": [
    "### Complete the plot commands accordingly\n",
    "\n",
    "plt.figure(figsize=(10,5))\n",
    "plt.title(\"Normalized histogram for 10000 realisations of $C_{1000}$\")\n",
    "plt.hist(c, bins='auto',density='true')\n",
    "plt.plot(x, arcsine.pdf(x), linewidth=2, color='r', label=\"true arcsine density\")\n",
    "plt.legend()\n",
    "\n",
    "plt.figure(figsize=(10,5))\n",
    "plt.title(\"Normalized histogram for 10000 realisations of $L_{1000}$\")\n",
    "plt.hist(l, bins='auto',density='true')\n",
    "plt.plot(x, arcsine.pdf(x), linewidth=2, color='r', label=\"true arcsine density\")\n",
    "plt.legend()\n",
    "\n",
    "\n",
    "plt.figure(figsize=(10,5))\n",
    "plt.title(\"Normalized histogram for 10000 realisations of $M_{1000}$\")\n",
    "plt.hist(m, bins='auto',density='true')\n",
    "plt.plot(x, arcsine.pdf(x), linewidth=2, color='r', label=\"true arcsine density\")\n",
    "plt.legend()"
   ]
  }
 ],
 "metadata": {
  "anaconda-cloud": {},
  "colab": {
   "provenance": []
  },
  "kernelspec": {
   "display_name": "Python 3 (ipykernel)",
   "language": "python",
   "name": "python3"
  },
  "language_info": {
   "codemirror_mode": {
    "name": "ipython",
    "version": 3
   },
   "file_extension": ".py",
   "mimetype": "text/x-python",
   "name": "python",
   "nbconvert_exporter": "python",
   "pygments_lexer": "ipython3",
   "version": "3.9.12"
  }
 },
 "nbformat": 4,
 "nbformat_minor": 1
}
